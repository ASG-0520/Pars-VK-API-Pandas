{
  "nbformat": 4,
  "nbformat_minor": 0,
  "metadata": {
    "colab": {
      "name": "IQOS.ipynb",
      "provenance": [],
      "authorship_tag": "ABX9TyPOQbpqbONaPlgT9fuURWnc",
      "include_colab_link": true
    },
    "kernelspec": {
      "name": "python3",
      "display_name": "Python 3"
    },
    "language_info": {
      "name": "python"
    }
  },
  "cells": [
    {
      "cell_type": "markdown",
      "metadata": {
        "id": "view-in-github",
        "colab_type": "text"
      },
      "source": [
        "<a href=\"https://colab.research.google.com/github/ASG-0520/Pars-VK-API-Pandas/blob/main/IQOS.ipynb\" target=\"_parent\"><img src=\"https://colab.research.google.com/assets/colab-badge.svg\" alt=\"Open In Colab\"/></a>"
      ]
    },
    {
      "cell_type": "code",
      "metadata": {
        "id": "HJ4AFQTA3d7z"
      },
      "source": [
        "%%time\n",
        "import pandas as pd\n",
        "import json\n",
        "import requests as requests\n",
        "from tqdm.notebook import trange, tqdm\n",
        "\n",
        "offset = 0  # смещение, необходимая для выборки определённого подмножество участников, по умолчанию 0\n",
        "info = []\n",
        "t = 1\n",
        "\n",
        "while 1:\n",
        "    payload = {\n",
        "        \"group_id\": 154150804,\n",
        "        \"offset\": offset,\n",
        "        \"count\": 1000,  # количество участников сообщества, информацию о которых необходимо получить, по умолчанию 1000 максимальное значение 1000\n",
        "        \"fields\": \"bdate, city, country, contacts\",  # has_mobile(1-номер мобильного известен, 0-нет)    domain(короткий ник)   contacts(mobile_phone, home_phone)str\n",
        "        \"v\": 5.131,\n",
        "        \"access_token\": \"f4a198952e36a044f970957bec6f5fd3140664dda351133b52df8708e5ca04c383da30b3db4a5e260b0a5\"}\n",
        "    req = requests.get('https://api.vk.com/method/groups.getMembers?', params=payload)\n",
        "\n",
        "    followers = json.loads(req.text)\n",
        "    offset += 1000\n",
        "\n",
        "    print(t)\n",
        "    t += 1\n",
        "\n",
        "    for user in tqdm(followers['response']['items']):\n",
        "        if not 'city' in user:\n",
        "            pass\n",
        "        elif 'mobile_phone' in user:\n",
        "            if user['mobile_phone'].startswith(('+', '8')):\n",
        "                info += [[user['first_name'], user['mobile_phone'], user['city']['title']]]\n",
        "        elif 'home_phone' in user:\n",
        "            if user['home_phone'].startswith(('+', '8')):\n",
        "                info += [[user['first_name'], user['home_phone'], user['city']['title']]]\n"
      ],
      "execution_count": null,
      "outputs": []
    },
    {
      "cell_type": "code",
      "metadata": {
        "id": "0z-MnBXQVKWy"
      },
      "source": [
        "columns = ['Name', 'Phone', 'City']\n",
        "info_df = pd.DataFrame(info, columns=columns)\n",
        "info_df.to_csv('IQOS_info.csv')"
      ],
      "execution_count": null,
      "outputs": []
    }
  ]
}